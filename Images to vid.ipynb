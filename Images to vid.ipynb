{
 "cells": [
  {
   "cell_type": "code",
   "execution_count": null,
   "metadata": {},
   "outputs": [],
   "source": [
    "import cv2\n",
    "import os"
   ]
  },
  {
   "cell_type": "code",
   "execution_count": null,
   "metadata": {},
   "outputs": [],
   "source": [
    "imgPath = './Videos/Tracked/'\n",
    "\n",
    "name = imgPath + 'video.mp4'\n",
    "cap = cv2.VideoCapture(0)\n",
    "fourcc = cv2.VideoWriter_fourcc(*'MP4V')\n",
    "out = cv2.VideoWriter(name, fourcc, 29.0, (1280,720))\n",
    "\n",
    "paths = []\n",
    "for img in os.listdir(imgPath):\n",
    "    if img.endswith('.jpg'):\n",
    "        paths.append((imgPath+img))\n",
    "\n",
    "paths = sorted(paths, key=lambda x: int(x.split('.jpg')[0].split('/')[-1]))\n",
    "\n",
    "for p in paths:\n",
    "    out.write(cv2.imread(p, cv2.COLOR_BGR2RGB))\n",
    "        \n",
    "cap.release()\n",
    "out.release()\n",
    "cv2.destroyAllWindows()"
   ]
  }
 ],
 "metadata": {
  "kernelspec": {
   "display_name": "Python 3",
   "language": "python",
   "name": "python3"
  },
  "language_info": {
   "codemirror_mode": {
    "name": "ipython",
    "version": 3
   },
   "file_extension": ".py",
   "mimetype": "text/x-python",
   "name": "python",
   "nbconvert_exporter": "python",
   "pygments_lexer": "ipython3",
   "version": "3.8.6"
  }
 },
 "nbformat": 4,
 "nbformat_minor": 4
}
