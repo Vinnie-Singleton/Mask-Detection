{
 "cells": [
  {
   "cell_type": "code",
   "execution_count": null,
   "metadata": {},
   "outputs": [],
   "source": [
    "import tensorflow as tf\n",
    "from tensorflow import keras\n",
    "from tensorflow.keras import layers\n",
    "from tensorflow.keras.models import Sequential\n",
    "\n",
    "import numpy as \n",
    "import random\n",
    "import os\n",
    "import matplotlib.pyplot as plt\n",
    "import cv2\n",
    "\n",
    "import seaborn as sn\n",
    "from sklearn.model_selection import train_test_split\n",
    "\n",
    "import pathlib\n",
    "from sklearn.metrics import classification_report"
   ]
  },
  {
   "cell_type": "code",
   "execution_count": null,
   "metadata": {},
   "outputs": [],
   "source": [
    "maskdata = './Videos/Mask/'\n",
    "nomaskdata = './Videos/NoMask/'\n",
    "unsuredata = './Videos/Unsure/'"
   ]
  },
  {
   "cell_type": "code",
   "execution_count": null,
   "metadata": {},
   "outputs": [],
   "source": [
    "nomask = pathlib.Path(nomaskdata).glob('**/*.jpg')\n",
    "unsure = pathlib.Path(unsuredata).glob('**/*.jpg')"
   ]
  },
  {
   "cell_type": "code",
   "execution_count": null,
   "metadata": {},
   "outputs": [],
   "source": [
    "X = []\n",
    "y = []\n",
    "\n",
    "# Get all of the no-mask pictures\n",
    "for m in nomask:\n",
    "    img = cv2.imread(str(m))\n",
    "    img = cv2.cvtColor(img, cv2.COLOR_BGR2RGB)\n",
    "    resized_img = cv2.resize(img,(224,224))\n",
    "    X.append(resized_img)\n",
    "    y.append(0)\n",
    "\n",
    "for u in unsure:\n",
    "    img = cv2.imread(str(u))\n",
    "    img = cv2.cvtColor(img, cv2.COLOR_BGR2RGB)\n",
    "    resized_img = cv2.resize(img,(224,224))\n",
    "    X.append(resized_img)\n",
    "    y.append(0)\n",
    "\n",
    "# Get the number of pictures so we can undersample the mask pictures\n",
    "numPictures = len(X)\n",
    "\n",
    "# Get n random samples from the mask pictures where n is the number of no-mask pics\n",
    "maskfilenames = random.sample(os.listdir(maskdata), numPictures)\n",
    "\n",
    "for fname in maskfilenames:\n",
    "    fullpath = maskdata+'/'+fname\n",
    "    img = cv2.imread(fullpath)\n",
    "    img = cv2.cvtColor(img, cv2.COLOR_BGR2RGB)\n",
    "    resized_img = cv2.resize(img,(224,224))\n",
    "    X.append(resized_img)\n",
    "    y.append(1)\n",
    "\n",
    "\n",
    "X = np.array(X)\n",
    "y = np.array(y)\n",
    "\n",
    "X_train, X_test, y_train, y_test = train_test_split(X,y,train_size=0.8)\n",
    "\n",
    "# Scale the pixel color data between 0 and 1\n",
    "X_train = X_train/255\n",
    "X_test = X_test/255"
   ]
  },
  {
   "cell_type": "code",
   "execution_count": null,
   "metadata": {},
   "outputs": [],
   "source": [
    "# Check that the pictures are loaded correctly\n",
    "num = 1\n",
    "\n",
    "plt.imshow(X[num])\n",
    "print(y[num])"
   ]
  },
  {
   "cell_type": "code",
   "execution_count": null,
   "metadata": {},
   "outputs": [],
   "source": [
    "# Build the model\n",
    "model = tf.keras.Sequential([\n",
    "    tf.keras.layers.Conv2D(28,4,input_shape=(224,224,3), padding='same', activation='relu'),\n",
    "    tf.keras.layers.MaxPooling2D(),\n",
    "    \n",
    "    tf.keras.layers.Conv2D(56,4,padding='same',activation='relu'),\n",
    "    tf.keras.layers.MaxPooling2D(),\n",
    "    \n",
    "    tf.keras.layers.Flatten(),\n",
    "    tf.keras.layers.Dropout(0.2),\n",
    "    tf.keras.layers.Dense(100,activation='relu'),\n",
    "    tf.keras.layers.Dropout(0.2),\n",
    "    tf.keras.layers.Dense(100,activation='relu'),\n",
    "    \n",
    "    tf.keras.layers.Dense(1,activation='sigmoid')\n",
    "])\n",
    "\n",
    "model.compile(optimizer='adam',\n",
    "            loss='binary_crossentropy',\n",
    "            metrics=['accuracy'])\n",
    "\n",
    "model.fit(X_train,y_train,epochs=10)"
   ]
  },
  {
   "cell_type": "code",
   "execution_count": null,
   "metadata": {},
   "outputs": [],
   "source": [
    "model.evaluate(X_test,y_test)"
   ]
  },
  {
   "cell_type": "code",
   "execution_count": null,
   "metadata": {},
   "outputs": [],
   "source": [
    "pred = model.predict(X_test)\n",
    "p = []\n",
    "for i in pred:\n",
    "    if i >= 0.5:\n",
    "        p.append(1)\n",
    "    else:\n",
    "        p.append(0)\n",
    "\n",
    "cm = tf.math.confusion_matrix(predictions=p, labels=y_test)\n",
    "\n",
    "plt.figure(figsize=(10,7))\n",
    "sn.heatmap(cm, annot=True, fmt='d')\n",
    "plt.xlabel('Pred')\n",
    "plt.ylabel('Truth')"
   ]
  },
  {
   "cell_type": "code",
   "execution_count": null,
   "metadata": {},
   "outputs": [],
   "source": [
    "print(classification_report(y_test,p))"
   ]
  },
  {
   "cell_type": "code",
   "execution_count": null,
   "metadata": {},
   "outputs": [],
   "source": [
    "# Save the model\n",
    "\n",
    "modelPath = './SavedModels/MaskDetection'\n",
    "\n",
    "model.save(modelPath)\n",
    "\n",
    "#model = tf.keras.models.load_model(modelPath)"
   ]
  }
 ],
 "metadata": {
  "kernelspec": {
   "display_name": "Python 3",
   "language": "python",
   "name": "python3"
  },
  "language_info": {
   "codemirror_mode": {
    "name": "ipython",
    "version": 3
   },
   "file_extension": ".py",
   "mimetype": "text/x-python",
   "name": "python",
   "nbconvert_exporter": "python",
   "pygments_lexer": "ipython3",
   "version": "3.8.6"
  }
 },
 "nbformat": 4,
 "nbformat_minor": 4
}
