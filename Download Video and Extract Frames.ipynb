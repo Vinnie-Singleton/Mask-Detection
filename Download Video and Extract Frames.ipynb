{
 "cells": [
  {
   "cell_type": "code",
   "execution_count": null,
   "metadata": {},
   "outputs": [],
   "source": [
    "import cv2\n",
    "import datetime\n",
    "import math\n",
    "import os\n",
    "from pytube import YouTube"
   ]
  },
  {
   "cell_type": "code",
   "execution_count": null,
   "metadata": {},
   "outputs": [],
   "source": [
    "url ='https://www.youtube.com/watch?v=Q3L_RlHFhIA'\n",
    "yt = YouTube(url)\n",
    "downloadPath = './Videos'"
   ]
  },
  {
   "cell_type": "code",
   "execution_count": null,
   "metadata": {},
   "outputs": [],
   "source": [
    "for e in yt.streams:\n",
    "    print(e)"
   ]
  },
  {
   "cell_type": "code",
   "execution_count": null,
   "metadata": {},
   "outputs": [],
   "source": [
    "# Download in 720p 30fps\n",
    "yt.streams.get_by_itag(136).download(downloadPath)"
   ]
  },
  {
   "cell_type": "code",
   "execution_count": null,
   "metadata": {},
   "outputs": [],
   "source": [
    "# https://towardsdatascience.com/the-easiest-way-to-download-youtube-videos-using-python-2640958318ab\n",
    "\n",
    "class FrameExtractor():\n",
    "    '''\n",
    "    Class used for extracting frames from a video file.\n",
    "    '''\n",
    "    def __init__(self, video_path):\n",
    "        self.video_path = video_path\n",
    "        self.vid_cap = cv2.VideoCapture(video_path)\n",
    "        self.n_frames = int(self.vid_cap.get(cv2.CAP_PROP_FRAME_COUNT))\n",
    "        self.fps = int(self.vid_cap.get(cv2.CAP_PROP_FPS))\n",
    "        \n",
    "    def get_video_duration(self):\n",
    "        duration = self.n_frames/self.fps\n",
    "        print(f'Duration: {datetime.timedelta(seconds=duration)}')\n",
    "        \n",
    "    def get_n_images(self, every_x_frame):\n",
    "        n_images = math.floor(self.n_frames / every_x_frame) + 1\n",
    "        print(f'Extracting every {every_x_frame} (nd/rd/th) frame would result in {n_images} images.')\n",
    "        \n",
    "    def extract_frames(self, every_x_frame, img_name, delim='', dest_path=None, img_ext = '.jpg',get_n_minutes=0, skip_frames=0):\n",
    "        n_images = math.floor(self.n_frames / every_x_frame) + 1\n",
    "        \n",
    "        img_cutoff = 0\n",
    "        if get_n_minutes != 0:\n",
    "            img_cutoff = (get_n_minutes*((self.fps/every_x_frame)*60))\n",
    "        \n",
    "        if not self.vid_cap.isOpened():\n",
    "            self.vid_cap = cv2.VideoCapture(self.video_path)\n",
    "        \n",
    "        if dest_path is None:\n",
    "            dest_path = os.getcwd()\n",
    "        else:\n",
    "            if not os.path.isdir(dest_path):\n",
    "                os.mkdir(dest_path)\n",
    "                print(f'Created the following directory: {dest_path}')\n",
    "        \n",
    "        frame_cnt = 0\n",
    "        img_cnt = skip_frames\n",
    "\n",
    "        while self.vid_cap.isOpened():\n",
    "            if frame_cnt % 500 == 0:\n",
    "                print(frame_cnt,skip_frames)\n",
    "            \n",
    "            success,image = self.vid_cap.read()\n",
    "            \n",
    "            if not success:\n",
    "                break\n",
    "            \n",
    "            if frame_cnt >= skip_frames:\n",
    "                if frame_cnt % every_x_frame == 0:\n",
    "                    img_path = dest_path +'/'+ ''.join([img_name, delim, str(img_cnt), img_ext])\n",
    "                    cv2.imwrite(img_path, image)  \n",
    "\n",
    "                    img_cnt += 1\n",
    "                    if img_cutoff != 0:\n",
    "                        if img_cnt >= img_cutoff:\n",
    "                            break\n",
    "            \n",
    "            frame_cnt += 1\n",
    "        \n",
    "        self.vid_cap.release()\n",
    "        cv2.destroyAllWindows()\n",
    "        print('100% done')"
   ]
  },
  {
   "cell_type": "code",
   "execution_count": null,
   "metadata": {},
   "outputs": [],
   "source": [
    "import pathlib\n",
    "path = pathlib.Path(downloadPath)\n",
    "p = path.glob('*.mp4')\n",
    "fullPath = ''\n",
    "for i in p:\n",
    "    fullPath = downloadPath +'/'+ str(i).split('/')[-1]\n",
    "print(fullPath)"
   ]
  },
  {
   "cell_type": "code",
   "execution_count": null,
   "metadata": {},
   "outputs": [],
   "source": [
    "fe = FrameExtractor(fullPath)"
   ]
  },
  {
   "cell_type": "code",
   "execution_count": null,
   "metadata": {},
   "outputs": [],
   "source": [
    "framesPath = downloadPath+'/frames'\n",
    "\n",
    "if not os.path.isdir(framesPath):\n",
    "    os.mkdir(framesPath)\n",
    "\n",
    "fe.extract_frames(every_x_frame=1,img_name='',dest_path=framesPath,get_n_minutes=4,skip_frames=0)"
   ]
  }
 ],
 "metadata": {
  "kernelspec": {
   "display_name": "Python 3",
   "language": "python",
   "name": "python3"
  },
  "language_info": {
   "codemirror_mode": {
    "name": "ipython",
    "version": 3
   },
   "file_extension": ".py",
   "mimetype": "text/x-python",
   "name": "python",
   "nbconvert_exporter": "python",
   "pygments_lexer": "ipython3",
   "version": "3.8.6"
  }
 },
 "nbformat": 4,
 "nbformat_minor": 4
}
